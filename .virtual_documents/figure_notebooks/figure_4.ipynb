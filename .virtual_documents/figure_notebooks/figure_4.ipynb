#!/usr/bin/env python3
# -*- coding: utf-8 -*-
"""
Created on Fri Sep 13 20:03:46 2024

@author: laserglaciers
"""


import pandas as pd
import os
import matplotlib.pyplot as plt
from matplotlib import colors, cm
import numpy as np
import geopandas as gpd
import rasterio
from rasterio.plot import show, adjust_band
from mpl_toolkits.axes_grid1 import make_axes_locatable
import matplotlib.ticker as ticker 
from shapely import Point
import string
# from rio_color.colorspace import ColorSpace as cs 
# from rio_color.colorspace import convert, convert_arr
from color_operations import operations, parse_operations



s2_path = '../data/elevation_strain/S2A_MSIL1C_20200824T142941_N0209_R139_T24WWU_20200824T181923.tif'
exx_path = '../data/elevation_strain/20191027_180230_20191028_000545_force_balance_no_smooth_clip.tif'
origin_points_path = '../data/surface_depression_origins/2015-2022_merged_w_atlas_north_good_quality.gpkg'

fig, axs = plt.subplots(2,2, figsize=(14,14))

axs = axs.flatten()
sd_color ='#e5b636'

m2km = lambda x, _: f'{x/1000:g}'


origin_points = gpd.read_file(origin_points_path)
origin_points.plot(zorder=3, edgecolor='k', ax=axs[0],
                                markersize = 20, facecolor=sd_color, label='Surface Depression Origin')


alphabet = list(string.ascii_lowercase)
text_dict = {'fontsize': 16,
             'fontweight': 'bold'}

label_dict = {'fontsize': 16}
labelsize = 12
cbar_dict = {'fontsize': 12}

#%%
cmap_exx = 'RdBu'
epsilon =r'$\dot{\epsilon}_{xx}$ (yr$^{-1}$)'
epsilon_symbol =r'$\dot{\epsilon}_{xx}$'

vmin_exx, vmax_exx = -1.5, 1.5
with rasterio.open(s2_path) as s2_src:
    
    s2_adj_band = adjust_band(s2_src.read([1,2,3]))
    s2_adj_band = s2_adj_band.astype(np.float64)
    s2_adj_band = np.where(np.isnan(s2_adj_band),0,s2_adj_band)
    ops = "gamma b 1.7, gamma rg 1.5, sigmoidal rgb 1 0.13, saturation 1.0"
    for func in parse_operations(ops):
        s2_adj_band = func(s2_adj_band)

    s2_show = show(s2_adj_band, 
                   transform=s2_src.transform,ax=axs[0])
    
with rasterio.open(exx_path) as exx_src:
    
    exx = exx_src.read(1)
    exx_show = show(exx, 
                   transform=exx_src.transform,ax=axs[0],
                   vmin=-1.5, vmax=1.5, cmap='RdBu')

axs[0].xaxis.set_major_formatter(m2km)
axs[0].yaxis.set_major_formatter(m2km)
axs[0].set_xlabel('Easting (km)', **label_dict)
axs[0].set_ylabel('Northing (km)',**label_dict)
axs[0].legend()

xlim = (np.float64(298750.0), np.float64(311350.0)+1e3)
ylim = (np.float64(-2581450.0)-1e3, np.float64(-2573150.0)+1e3)
axs[0].set_xlim(xlim)
axs[0].set_ylim(ylim)

div1 = make_axes_locatable(axs[0])
cax = div1.append_axes("right", size="5%", pad=0.1)
cbar = fig.colorbar(cm.ScalarMappable(norm=colors.Normalize(vmin = vmin_exx, vmax = vmax_exx), cmap=cmap_exx),
              cax=cax, **{'extend':'max'})

cbar.set_label(label=epsilon, **cbar_dict)
dates = '2019-10-27 18:02:30 - 2019-10-28 00:05:45'
axs[0].set_title(f'{epsilon_symbol}\n{dates}', **label_dict)
axs[0].tick_params(axis='both', which='major', labelsize=labelsize)

#%%

exx_df = pd.read_pickle('../data/elevation_strain/pre_flexure_exx_max.pkl')


error = 0.05

axs[1].errorbar(exx_df.index, exx_df.values, yerr=error, 
            fmt='o',zorder=2,markeredgecolor='k', capsize=2)
# ax.errorbar(df.index, df.values, yerr=error*2, fmt='o',zorder=1,markeredgecolor='k', capsize=2)

axs[1].axhline(y=0, color='k')
axs[1].grid(linestyle='--')


exx = f'{epsilon}'
axs[1].set_ylabel(exx,**label_dict)
axs[1].set_xlabel('Initial Surface Depression Date', **label_dict)
axs[1].set_title(f'2-Week Pre-surface Depression {epsilon_symbol} Max', **label_dict)
axs[1].tick_params(axis='both', which='major', labelsize=labelsize)

asp = np.diff(axs[1].get_xlim())[0] / np.diff(axs[1].get_ylim())[0]
asp /= np.abs(np.diff(axs[0].get_xlim())[0] / np.diff(axs[0].get_ylim())[0])
axs[1].set_aspect(asp)



#%% DEM diff
dem_diff_path = '../data/elevation_strain/230705_070216_160609_180213_idw.tif'
transverse_profile_path = '../data/elevation_strain/transverse_profile.shp'
pkl_path = '../data/elevation_strain/transverse_profile_surface_idw.pkl'
vmin, vmax = -80,80
cmap_dem = plt.get_cmap('RdBu').copy()

transverse_profile = gpd.read_file(transverse_profile_path)
transverse_profile.plot(ax=axs[2], lw=4, color='k',zorder=2)
transverse_profile.plot(ax=axs[2], lw=3, color='tab:blue')

with rasterio.open(dem_diff_path) as dem_src:
    
    ops = "gamma b 1.7, gamma rg 1.5, sigmoidal rgb 3 0.13, saturation 1.0"
    s2_show2 = show(s2_adj_band, 
                   transform=s2_src.transform,ax=axs[2])
    
    dem_diff = dem_src.read(1)
    dem_plot = show(dem_diff,transform=dem_src.transform,ax=axs[2],cmap=cmap_dem, vmin=vmin, vmax=vmax)

axs[2].xaxis.set_major_formatter(m2km)
axs[2].yaxis.set_major_formatter(m2km)

axs[2].set_ylim(ylim)
axs[2].set_xlim(xlim)

div2 = make_axes_locatable(axs[2])
cax2 = div2.append_axes("right", size="5%", pad=0.1)
cbar2 = fig.colorbar(cm.ScalarMappable(norm=colors.Normalize(vmin = vmin, vmax = vmax), cmap=cmap_dem),
              cax=cax2, **{'extend':'both'})


cbar2.set_label(label='Elevation Difference (m)',**cbar_dict)
axs[2].set_xlabel('Easting (km)', **label_dict)
axs[2].set_ylabel('Northing (km)', **label_dict)
axs[2].set_title('2016 - 2023 Elevation Difference', **label_dict)

text_label = axs[2].text(304500, -2581000, 'e', **text_dict)
text_label.set_bbox(dict(facecolor='white', alpha=0.6, linewidth=0))

text_label2 = axs[2].text(304500, -2574000, "e'", **text_dict)
text_label2.set_bbox(dict(facecolor='white', alpha=0.6, linewidth=0))
axs[2].tick_params(axis='both', which='major', labelsize=labelsize)


#%% profile plot
label_dict = {'fontsize': 16}
labelsize = 12

df_data = pd.read_pickle(pkl_path)
# df_data = df_data[df_data<180]
df_data_dt = df_data.iloc[:,:-2]
df_data_dt.index = df_data_dt.index/1000
df_data.index = df_data.index/1000

df_data.iloc[:,:-1][df_data.iloc[:,:-1]<180].plot(colormap='viridis',ax=axs[3])

# df_data_dt.plot(colormap='viridis',ax=axs[3])
axs[3].grid(linestyle='--')
axs[3].set_title(f'Surface Elevation', **label_dict)
axs[3].set_ylabel('Elevation (m)',**label_dict)
axs[3].set_xlabel('Distance Across Profile (km)', **label_dict)
axs[3].set_ylim(70,200)
axs[3].tick_params(axis='both', which='major', labelsize=labelsize)

dt = pd.to_datetime(df_data.iloc[:,:-2].columns)

axs[3].legend(ncols=3, fontsize='medium', labels=dt.date)

axs[3].axhline(0, color='black')


asp = np.diff(axs[3].get_xlim())[0] / np.diff(axs[3].get_ylim())[0]
asp /= np.abs(np.diff(axs[2].get_xlim())[0] / np.diff(axs[2].get_ylim())[0])

axs[3].set_aspect(asp)
# axs[3].set_ylim(80, 200)



text_label_e = axs[3].text(1.5, 150, 'e', **text_dict)
# text_label_e.set_bbox(dict(facecolor='white', alpha=0.6, linewidth=0))

text_label_f = axs[3].text(7.3, 150, "e'", **text_dict)
# text_label_f.set_bbox(dict(facecolor='white', alpha=0.6, linewidth=0))


#%% adjust and save fig
plt.subplots_adjust(wspace=0.5, hspace=-0.1)


for i,axis in enumerate(axs):
    
    if i == 1:
        text_label = axis.text(.01, .04, alphabet[i], ha='left', va='bottom', transform=axis.transAxes, **text_dict)
    
    if i%2 == 0:
        text_label = axis.text(.01, .01, alphabet[i], ha='left', va='bottom', transform=axis.transAxes, **text_dict)
        text_label.set_bbox(dict(facecolor='white', alpha=0.6, linewidth=0))
        
    else:
        text_label = axis.text(.01, .04, alphabet[i], ha='left', va='bottom', transform=axis.transAxes, **text_dict)

        



