import pandas as pd
import os
import matplotlib.pyplot as plt
from matplotlib import colors, cm
import numpy as np
import geopandas as gpd
import rasterio
from rasterio.plot import show, adjust_band
from mpl_toolkits.axes_grid1 import make_axes_locatable
import matplotlib.ticker as ticker 
from shapely import Point
import string



s2_image_path = '/media/laserglaciers/upernavik/flexure_manuscipt/sat_images/use/S2A_MSIL2A_20160504T142012_R096_T24WWU_20210211T083127_3413_clip.tif'
force_path = '/media/laserglaciers/upernavik/force_balances/its_live_arctic_dem_forces/forces_to_use/indv_clip/20160504T142054_20160515T020555_force_balance_smooth_2_clip.tif'
gz_2018_path = '/media/laserglaciers/upernavik/flexure_manuscipt/geoms/2018_grounding_zone_convex_hull.gpkg'
gz_2019_path = '/media/laserglaciers/upernavik/flexure_manuscipt/geoms/2019_grounding_zone_convex_hull.gpkg'
profile_plot = '/media/laserglaciers/upernavik/flexure_manuscipt/geoms/td_tb_profile_test.shp'
surface_depression_origin_path = '/media/laserglaciers/kulusuk/flexure_zone_data/atlas_south_catalog/initial_centroids/all_years/merged/2015-2022_merged_w_atlas_north_good_quality.gpkg'



profile = gpd.read_file(profile_plot)
gz_2018 = gpd.read_file(gz_2018_path) # #b2df8a
gz_2019 = gpd.read_file(gz_2019_path) # ##ff9e17
surface_depression_origins = gpd.read_file(surface_depression_origin_path)

color_18 = '#b2df8a'
color_19 = '#ff9e17'
sd_color ='#e5b636' #surface depression color

fig, axs = plt.subplots(2,2, figsize=(10,10),sharey='row')

axs = axs.flatten()
top_row = axs[:2]
bottom_row = axs[2:]

#  2016-05-04 - 2016-05-13

vmin, vmax = -900, 900
cmap = 'RdBu'
m2km = lambda x, _: f'{x/1000:g}'
titles = ['Driving Stress\n2016-05-04 - 2016-05-13', 'Basal Drag\n2016-05-04 - 2016-05-13']

for i,ax in enumerate(top_row):
    
    if i == 0:
        band = 11 
    else:
        band = 13
        
        
        
    # plot grounding zone
    profile.plot(ax=ax, color='gray',zorder=4, alpha=0.7)
    gz_2018.plot(ax=ax, color = color_18, alpha=0.5,zorder=3, label='2018 Grounding Zone', legend=True)
    gz_2019.plot(ax=ax, color = color_19, alpha=0.5,zorder=3,  label='2019 Grounding Zone', legend=True)
    surface_depression_origins.plot(ax=ax,zorder=3, edgecolor='k', 
                                    markersize = 20, facecolor=sd_color, label='Surface Depression Origin')
    
    with rasterio.open(force_path) as src_force:
        
        force_show = show(src_force.read(band),adjust=True, ax=ax, transform=src_force.transform,zorder=2,
             vmin=vmin, vmax=vmax, cmap = cmap)
    
    with rasterio.open(s2_image_path) as src:
        
        show(src.read([1,2,3]),adjust=True, ax=ax, transform=src.transform,
             zorder=1)

        ax.xaxis.set_major_formatter(m2km)
        ax.yaxis.set_major_formatter(m2km)
        
    ax.set_xlabel('Easting (km)')
    ax.set_title(titles[i])
    
top_row[0].legend()


div1 = make_axes_locatable(top_row[0])
cax = div1.append_axes("right", size="5%", pad=0.1)
cbar = fig.colorbar(cm.ScalarMappable(norm=colors.Normalize(vmin = vmin,vmax = vmax), cmap=cmap),
              cax=cax, **{'extend':'max'})
cax.set_visible(False)


div2 = make_axes_locatable(ax)
cax2 = div2.append_axes("right", size="5%", pad=0.1)
cbar2 = fig.colorbar(cm.ScalarMappable(norm=colors.Normalize(vmin = vmin,vmax = vmax), cmap=cmap),
              cax=cax2, **{'extend':'both'})

cbar2.set_label(label='kPa')
# fig.colorbar(force_show, ax=ax)    
cbar2.ax.set_ylim(-200, vmax)
top_row[0].set_ylabel('Northing (km)')
space=5e3
top_row[0].xaxis.set_major_locator(ticker.MultipleLocator(space)) 
top_row[0].yaxis.set_major_locator(ticker.MultipleLocator(space)) 
        
#%%
# Bottom row
def rm_geo(df):
    
    df = df.drop('geometry', axis=1)
    df.columns = pd.to_datetime(df.columns)
    df.sort_index(axis=1,inplace=True)
    
    return df
    
    
td_path = '/media/laserglaciers/upernavik/force_balances/its_live_arctic_dem_forces/pkls/indv_clip_force_balance/Td_along.pkl' 
tb_path = '/media/laserglaciers/upernavik/force_balances/its_live_arctic_dem_forces/pkls/indv_clip_force_balance/Tb_along.pkl' 
td_error_path = '/media/laserglaciers/upernavik/force_balances/its_live_arctic_dem_forces/pkls/driving_stress_error/driving_stress_error.pkl'
tb_error_path = '/media/laserglaciers/upernavik/force_balances/its_live_arctic_dem_forces/pkls/basal_drag_error/basal_drag_error_add.pkl'




Td_df = pd.read_pickle(td_path)
Tb_df = pd.read_pickle(tb_path)


td_error_vals = rm_geo(pd.read_pickle(td_error_path))
tb_error_vals = rm_geo(pd.read_pickle(tb_error_path))

# clean up from edge effects



# tb_error_vals = (td_error_vals + td_error_vals.std()) + (Flat_err_vals + Flat_err_vals.std())  +  (Flon_err_vals + Flon_err_vals.std())

forces_list = [ 
                (Td_df, td_error_vals),
               (Tb_df, tb_error_vals)
              
               ]

# get bounds for grounding zones
profile_18 = profile.intersection(gz_2018)
profile_19 = profile.intersection(gz_2019)


mins_18 = profile_18.bounds[['minx','miny']]
mins_19 = profile_19.bounds[['minx','miny']]

max_18 = profile_18.bounds[['maxx','maxy']]
max_19 = profile_19.bounds[['maxx','maxy']]

min18_point = Point(mins_18.to_numpy())
min19_point = Point(mins_19.to_numpy())

max18_point = Point(max_18.to_numpy())
max19_point = Point(max_19.to_numpy())

cmap = plt.get_cmap('viridis')

# Generate a list of N colors from the colormap
N = 5
colors = cmap(np.linspace(0, 1, N))


for i, (df,err_df) in enumerate(forces_list):
    
    
    ax = bottom_row[i]
    
    first_point = df['geometry'][0]
    distances = []
    for geom in df['geometry']:
        distance = first_point.distance(geom)
        distances.append(distance)
    
    
    min_18_dist = first_point.distance(min18_point)
    max_18_dist = first_point.distance(max18_point)
    
    min_19_dist = first_point.distance(min19_point)
    max_19_dist = first_point.distance(max19_point)
    
    ax.axvspan(min_18_dist/1000, max_18_dist/1000, color=color_18, alpha = 0.5, 
               zorder=2, label='2018 Grounding Zone')
    
    ax.axvspan(min_19_dist/1000, max_19_dist/1000, color=color_19,alpha=0.5, 
               zorder=2, label='2019 Grounding Zone')
    
    dist_km = np.array(distances)/1000
    df_dt = df.iloc[:,1:]
    df_dt.columns = pd.to_datetime(df_dt.columns)
    df_dt.columns = df_dt.columns.date
    
    err_df.index = dist_km
    err_df.columns = err_df.columns.date
    
    df_dt.sort_index(axis=1,inplace=True)
    df_dt.index = dist_km
    
    # clean up small area data
    # first the upflow portion at 4.7km
    mask_1820 = df_dt.index<4.7
    df_dt.iloc[mask_1820,2:] = np.nan
    
    mask_17 = df_dt.index>11.2
    df_dt.iloc[mask_17,1] = np.nan
    
    df_dt.plot(cmap='viridis', ax=ax, legend=False)
    
    for j,col in enumerate(err_df):
        ax.fill_between(dist_km, df_dt.loc[:,col] - err_df.loc[:,col], 
                         df_dt.loc[:,col] + err_df.loc[:,col],
                          alpha=0.2, color=colors[j])
        
    ax.set_ylim(-400,1200)
    

titles_bottom = ['Driving Stress', 'Basal Drag']
asp = np.diff(bottom_row[0].get_xlim())[0] / np.diff(bottom_row[0].get_ylim())[0]
asp /= np.abs(np.diff(top_row[0].get_xlim())[0] / np.diff(top_row[0].get_ylim())[0])


for i,bax in enumerate(bottom_row):
    bax.set_aspect(asp)
    bax.grid(linestyle = '--')
    bax.set_ylim(-250,1250)
    bax.set_title(titles_bottom[i])
    bax.set_xlabel('Distance Along Profile (km)')
    bax.set_ylim(-400,1200)
    bax.axhline(0, color='k')
    
    
bottom_row[0].set_ylabel('kPa')

leg = bottom_row[0].get_legend_handles_labels()

bottom_row[0].legend(handles=leg[0][2:],  labels=leg[1][2:], loc='lower left')
bottom_row[1].legend(handles=leg[0][:2],  labels=leg[1][:2], loc='lower left')
# plt.subplots_adjust(hspace=0)


alphabet = list(string.ascii_lowercase)
text_dict = {'fontsize':12,
             'fontweight': 'bold'}

for i,axis in enumerate(axs):
    text_label = axis.text(.01, .99, alphabet[i], ha='left', va='top', transform=axis.transAxes, **text_dict)
    
    if i <2:
        text_label.set_bbox(dict(facecolor='white', alpha=0.6, linewidth=0))



