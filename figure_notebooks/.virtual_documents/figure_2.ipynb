#!/usr/bin/env python3
# -*- coding: utf-8 -*-
"""
Created on Mon Jul  8 14:25:06 2024

@author: laserglaciers
"""
import os
import pandas as pd
import geopandas as gpd
import numpy as np
from subProcessUtils import date_sort
import matplotlib.pyplot as plt
import matplotlib.dates as mdates
from pathlib import Path
from shapely.geometry import Point
import numpy as np
import string
import matplotlib as mpl
import matplotlib.pylab as pylab
from matplotlib.ticker import MultipleLocator
import matplotlib.ticker as ticker



params = {'legend.fontsize': 'x-large',
         'axes.labelsize': 'x-large',
         'axes.titlesize':'x-large',
         'xtick.labelsize':'xx-large',
         'ytick.labelsize':'xx-large'}
pylab.rcParams.update(params)


term_data_path_leigh = '/media/laserglaciers/upernavik/flexure_manuscipt/leigh_data/termDONE_raw.csv'
term_position_df = pd.read_csv(term_data_path_leigh,parse_dates=['Date'])
label_dict = {'fontsize': 12}
tick_size = 15

# Combined atlas, itslive on top and term position on botton
fig5, ax5 = plt.subplots(2,1,sharex=True, figsize=(16,8))
ax5 = ax5.flatten()


ax5[0].grid(linestyle='--',zorder=1)
its_live_path = '/media/laserglaciers/upernavik/flexure_manuscipt/csv/helheim_velocity_its_live.pkl'
# its_live_df = pd.read_csv(its_live_path, parse_dates=['mid_date'])

its_live_df = pd.read_pickle(its_live_path)



its_live_df['v'] = its_live_df['v']/365

its_live_df = its_live_df[its_live_df['v']>5] # filter out very low values
time_delta = pd.Timedelta(50,'D')
its_live_df['date_dt'] = its_live_df['date_dt'][its_live_df.date_dt < time_delta]



ax5[0].scatter(its_live_df.index, its_live_df['v'],color='tab:orange', edgecolor='k',label='ITS_LIVE', zorder=2)


# ATLAS vel
atlas_vel_path = '/media/laserglaciers/upernavik/flexure_manuscipt/pkls/ATLAS_abs_H_d8.pkl'
atlas_vel = pd.read_pickle(atlas_vel_path)
atlas_vel = atlas_vel.iloc[:,1:]
atlas_vel = atlas_vel.T
atlas_vel.index = pd.to_datetime(atlas_vel.index)
#remove bad data point; weird bulls eye artifact; likely noise from air
atlas_vel = atlas_vel[atlas_vel<50]

ax5[0].plot(atlas_vel.index, atlas_vel.values, 'o',
           color='tab:blue', markeredgecolor='k', label='ATLAS', linewidth=0.5, zorder=2)



h, l = ax5[0].get_legend_handles_labels()
h, l = h[-2:], l[-2:]
ax5[0].legend(h, l,loc='upper center',ncol=2)

ax5[0].set_title(r'ATLAS and ITS_LIVE Velocity')
ax5[0].set_ylabel(r'Velocity (m d$^{-1}$)')
# ax5[0].set_ylim(15, 35)


#%% bottom plot
ax5[1].plot(term_position_df.Date, term_position_df.terminus,'-o',**plot_dict)

ax5[1].grid(linestyle='--')

km = r'km$^{2}$'
ax5[1].set_ylabel(f'{km}\nretreated           advanced')
ax5[1].set_title(r'Terminus Position')

# Elevation Time Series
arctic_dem_path = '/media/laserglaciers/upernavik/flexure_manuscipt/pkls/arctic_dem_sample.pkl'
atlas_dem_path = '/media/laserglaciers/upernavik/flexure_manuscipt/pkls/atlas_south_dem_max_sample.pkl'

arctic_dem_df = pd.read_pickle(arctic_dem_path)
atlas_dem_df = pd.read_pickle(atlas_dem_path)

arctic_dem_df = arctic_dem_df.iloc[:,1:]
arctic_dem_df.columns = pd.to_datetime(arctic_dem_df.columns)
col_mask = arctic_dem_df.columns < pd.to_datetime('2017')
arctic_dem_df = arctic_dem_df.loc[:,col_mask]



alphabet = list(string.ascii_lowercase)
text_dict = {'fontsize':18,
             'fontweight': 'bold'}

ml = MultipleLocator(2)
ax5[0].yaxis.set_minor_locator(ticker.AutoMinorLocator(2))
ax5[1].set_ylim(-2.4, 2.4)

for i, axis in enumerate(ax5):
    axis.set_xlim(pd.to_datetime('2001'), pd.to_datetime('2024'))
    axis.tick_params(axis='both',labelsize = tick_size)
    # axis.tick_params(axis='x', which='minor', bottom=False)
    axis.xaxis.set_minor_locator(ticker.AutoMinorLocator(2))
    text_label = axis.text(.01, .99, alphabet[i], ha='left', va='top', transform=axis.transAxes, **text_dict)



