import os
import numpy as np
import pandas as pd
import matplotlib.pyplot as plt
import matplotlib.dates as mdates


flexure_count_path = '/media/laserglaciers/upernavik/atlas_south_copc/calving_catalog_2015-2023/flexure_count.csv'
flexure_count_df = pd.read_csv(flexure_count_path,parse_dates=['year'])

label_dict = {'fontsize': 18}
labelsize = 15

fig, ax = plt.subplots(figsize=(8,8))

ax.bar(flexure_count_df.year.dt.year, flexure_count_df.flexures, color='tab:blue',
       edgecolor = 'k')

# ax.set_ylabel('Max Observed Flexure Count',**label_dict)
ax.tick_params(axis='both', which='major', labelsize=labelsize)
ax.set_ylabel('Max Observed Surface Depression Count', **label_dict)
ax.tick_params(axis='both', which='major')
ax.axvspan(2012.6, 2013.4, color='tab:gray', alpha=0.2, hatch='x')
ax.axvspan(2014.6, 2015.4, color='tab:gray', alpha=0.2, hatch='x' )

# plt.tight_layout()
op = '/media/laserglaciers/upernavik/flexure_manuscipt/figures/'
# fig.savefig(f'{op}flexure_count_FINAL.pdf',dpi=300, bbox_inches="tight", transparent=True)



